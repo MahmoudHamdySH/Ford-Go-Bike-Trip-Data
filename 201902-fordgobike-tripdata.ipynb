{
 "cells": [
  {
   "cell_type": "markdown",
   "id": "8c9d5d45",
   "metadata": {},
   "source": [
    "<h2 align=center>Ford Go Bike Trip Data</h2>"
   ]
  },
  {
   "cell_type": "markdown",
   "id": "5e62a2dc",
   "metadata": {},
   "source": [
    "## Load the Data and Libraries\n",
    "---"
   ]
  },
  {
   "cell_type": "code",
   "execution_count": 30,
   "id": "60eb3200",
   "metadata": {},
   "outputs": [],
   "source": [
    "%matplotlib inline\n",
    "import pandas as pd\n",
    "import matplotlib.pyplot as plt\n",
    "import numpy as np\n",
    "import seaborn as sns\n",
    "from sklearn.preprocessing import LabelEncoder\n",
    "import copy\n",
    "import os\n",
    "import warnings"
   ]
  },
  {
   "cell_type": "code",
   "execution_count": 2,
   "id": "0f2b259b",
   "metadata": {},
   "outputs": [
    {
     "data": {
      "text/html": [
       "<div>\n",
       "<style scoped>\n",
       "    .dataframe tbody tr th:only-of-type {\n",
       "        vertical-align: middle;\n",
       "    }\n",
       "\n",
       "    .dataframe tbody tr th {\n",
       "        vertical-align: top;\n",
       "    }\n",
       "\n",
       "    .dataframe thead th {\n",
       "        text-align: right;\n",
       "    }\n",
       "</style>\n",
       "<table border=\"1\" class=\"dataframe\">\n",
       "  <thead>\n",
       "    <tr style=\"text-align: right;\">\n",
       "      <th></th>\n",
       "      <th>duration_sec</th>\n",
       "      <th>start_time</th>\n",
       "      <th>end_time</th>\n",
       "      <th>start_station_id</th>\n",
       "      <th>start_station_name</th>\n",
       "      <th>start_station_latitude</th>\n",
       "      <th>start_station_longitude</th>\n",
       "      <th>end_station_id</th>\n",
       "      <th>end_station_name</th>\n",
       "      <th>end_station_latitude</th>\n",
       "      <th>end_station_longitude</th>\n",
       "      <th>bike_id</th>\n",
       "      <th>user_type</th>\n",
       "      <th>member_birth_year</th>\n",
       "      <th>member_gender</th>\n",
       "      <th>bike_share_for_all_trip</th>\n",
       "    </tr>\n",
       "  </thead>\n",
       "  <tbody>\n",
       "    <tr>\n",
       "      <th>0</th>\n",
       "      <td>52185</td>\n",
       "      <td>2019-02-28 17:32:10.1450</td>\n",
       "      <td>2019-03-01 08:01:55.9750</td>\n",
       "      <td>21.0</td>\n",
       "      <td>Montgomery St BART Station (Market St at 2nd St)</td>\n",
       "      <td>37.789625</td>\n",
       "      <td>-122.400811</td>\n",
       "      <td>13.0</td>\n",
       "      <td>Commercial St at Montgomery St</td>\n",
       "      <td>37.794231</td>\n",
       "      <td>-122.402923</td>\n",
       "      <td>4902</td>\n",
       "      <td>Customer</td>\n",
       "      <td>1984.0</td>\n",
       "      <td>Male</td>\n",
       "      <td>No</td>\n",
       "    </tr>\n",
       "    <tr>\n",
       "      <th>1</th>\n",
       "      <td>42521</td>\n",
       "      <td>2019-02-28 18:53:21.7890</td>\n",
       "      <td>2019-03-01 06:42:03.0560</td>\n",
       "      <td>23.0</td>\n",
       "      <td>The Embarcadero at Steuart St</td>\n",
       "      <td>37.791464</td>\n",
       "      <td>-122.391034</td>\n",
       "      <td>81.0</td>\n",
       "      <td>Berry St at 4th St</td>\n",
       "      <td>37.775880</td>\n",
       "      <td>-122.393170</td>\n",
       "      <td>2535</td>\n",
       "      <td>Customer</td>\n",
       "      <td>NaN</td>\n",
       "      <td>NaN</td>\n",
       "      <td>No</td>\n",
       "    </tr>\n",
       "    <tr>\n",
       "      <th>2</th>\n",
       "      <td>61854</td>\n",
       "      <td>2019-02-28 12:13:13.2180</td>\n",
       "      <td>2019-03-01 05:24:08.1460</td>\n",
       "      <td>86.0</td>\n",
       "      <td>Market St at Dolores St</td>\n",
       "      <td>37.769305</td>\n",
       "      <td>-122.426826</td>\n",
       "      <td>3.0</td>\n",
       "      <td>Powell St BART Station (Market St at 4th St)</td>\n",
       "      <td>37.786375</td>\n",
       "      <td>-122.404904</td>\n",
       "      <td>5905</td>\n",
       "      <td>Customer</td>\n",
       "      <td>1972.0</td>\n",
       "      <td>Male</td>\n",
       "      <td>No</td>\n",
       "    </tr>\n",
       "    <tr>\n",
       "      <th>3</th>\n",
       "      <td>36490</td>\n",
       "      <td>2019-02-28 17:54:26.0100</td>\n",
       "      <td>2019-03-01 04:02:36.8420</td>\n",
       "      <td>375.0</td>\n",
       "      <td>Grove St at Masonic Ave</td>\n",
       "      <td>37.774836</td>\n",
       "      <td>-122.446546</td>\n",
       "      <td>70.0</td>\n",
       "      <td>Central Ave at Fell St</td>\n",
       "      <td>37.773311</td>\n",
       "      <td>-122.444293</td>\n",
       "      <td>6638</td>\n",
       "      <td>Subscriber</td>\n",
       "      <td>1989.0</td>\n",
       "      <td>Other</td>\n",
       "      <td>No</td>\n",
       "    </tr>\n",
       "    <tr>\n",
       "      <th>4</th>\n",
       "      <td>1585</td>\n",
       "      <td>2019-02-28 23:54:18.5490</td>\n",
       "      <td>2019-03-01 00:20:44.0740</td>\n",
       "      <td>7.0</td>\n",
       "      <td>Frank H Ogawa Plaza</td>\n",
       "      <td>37.804562</td>\n",
       "      <td>-122.271738</td>\n",
       "      <td>222.0</td>\n",
       "      <td>10th Ave at E 15th St</td>\n",
       "      <td>37.792714</td>\n",
       "      <td>-122.248780</td>\n",
       "      <td>4898</td>\n",
       "      <td>Subscriber</td>\n",
       "      <td>1974.0</td>\n",
       "      <td>Male</td>\n",
       "      <td>Yes</td>\n",
       "    </tr>\n",
       "  </tbody>\n",
       "</table>\n",
       "</div>"
      ],
      "text/plain": [
       "   duration_sec                start_time                  end_time  \\\n",
       "0         52185  2019-02-28 17:32:10.1450  2019-03-01 08:01:55.9750   \n",
       "1         42521  2019-02-28 18:53:21.7890  2019-03-01 06:42:03.0560   \n",
       "2         61854  2019-02-28 12:13:13.2180  2019-03-01 05:24:08.1460   \n",
       "3         36490  2019-02-28 17:54:26.0100  2019-03-01 04:02:36.8420   \n",
       "4          1585  2019-02-28 23:54:18.5490  2019-03-01 00:20:44.0740   \n",
       "\n",
       "   start_station_id                                start_station_name  \\\n",
       "0              21.0  Montgomery St BART Station (Market St at 2nd St)   \n",
       "1              23.0                     The Embarcadero at Steuart St   \n",
       "2              86.0                           Market St at Dolores St   \n",
       "3             375.0                           Grove St at Masonic Ave   \n",
       "4               7.0                               Frank H Ogawa Plaza   \n",
       "\n",
       "   start_station_latitude  start_station_longitude  end_station_id  \\\n",
       "0               37.789625              -122.400811            13.0   \n",
       "1               37.791464              -122.391034            81.0   \n",
       "2               37.769305              -122.426826             3.0   \n",
       "3               37.774836              -122.446546            70.0   \n",
       "4               37.804562              -122.271738           222.0   \n",
       "\n",
       "                               end_station_name  end_station_latitude  \\\n",
       "0                Commercial St at Montgomery St             37.794231   \n",
       "1                            Berry St at 4th St             37.775880   \n",
       "2  Powell St BART Station (Market St at 4th St)             37.786375   \n",
       "3                        Central Ave at Fell St             37.773311   \n",
       "4                         10th Ave at E 15th St             37.792714   \n",
       "\n",
       "   end_station_longitude  bike_id   user_type  member_birth_year  \\\n",
       "0            -122.402923     4902    Customer             1984.0   \n",
       "1            -122.393170     2535    Customer                NaN   \n",
       "2            -122.404904     5905    Customer             1972.0   \n",
       "3            -122.444293     6638  Subscriber             1989.0   \n",
       "4            -122.248780     4898  Subscriber             1974.0   \n",
       "\n",
       "  member_gender bike_share_for_all_trip  \n",
       "0          Male                      No  \n",
       "1           NaN                      No  \n",
       "2          Male                      No  \n",
       "3         Other                      No  \n",
       "4          Male                     Yes  "
      ]
     },
     "execution_count": 2,
     "metadata": {},
     "output_type": "execute_result"
    }
   ],
   "source": [
    "df = pd.read_csv('201902-fordgobike-tripdata.csv')\n",
    "df.head()"
   ]
  },
  {
   "cell_type": "markdown",
   "id": "8500bfd3",
   "metadata": {},
   "source": [
    "## Data overview and check fro nulls \n",
    "\n",
    "---"
   ]
  },
  {
   "cell_type": "code",
   "execution_count": 3,
   "id": "5b8a21cb",
   "metadata": {},
   "outputs": [
    {
     "name": "stdout",
     "output_type": "stream",
     "text": [
      "<class 'pandas.core.frame.DataFrame'>\n",
      "RangeIndex: 183412 entries, 0 to 183411\n",
      "Data columns (total 16 columns):\n",
      " #   Column                   Non-Null Count   Dtype  \n",
      "---  ------                   --------------   -----  \n",
      " 0   duration_sec             183412 non-null  int64  \n",
      " 1   start_time               183412 non-null  object \n",
      " 2   end_time                 183412 non-null  object \n",
      " 3   start_station_id         183215 non-null  float64\n",
      " 4   start_station_name       183215 non-null  object \n",
      " 5   start_station_latitude   183412 non-null  float64\n",
      " 6   start_station_longitude  183412 non-null  float64\n",
      " 7   end_station_id           183215 non-null  float64\n",
      " 8   end_station_name         183215 non-null  object \n",
      " 9   end_station_latitude     183412 non-null  float64\n",
      " 10  end_station_longitude    183412 non-null  float64\n",
      " 11  bike_id                  183412 non-null  int64  \n",
      " 12  user_type                183412 non-null  object \n",
      " 13  member_birth_year        175147 non-null  float64\n",
      " 14  member_gender            175147 non-null  object \n",
      " 15  bike_share_for_all_trip  183412 non-null  object \n",
      "dtypes: float64(7), int64(2), object(7)\n",
      "memory usage: 22.4+ MB\n"
     ]
    },
    {
     "data": {
      "text/plain": [
       "(183412, 16)"
      ]
     },
     "execution_count": 3,
     "metadata": {},
     "output_type": "execute_result"
    }
   ],
   "source": [
    "df.info()\n",
    "df.shape"
   ]
  },
  {
   "cell_type": "code",
   "execution_count": 4,
   "id": "80eb60ae",
   "metadata": {},
   "outputs": [
    {
     "data": {
      "text/html": [
       "<div>\n",
       "<style scoped>\n",
       "    .dataframe tbody tr th:only-of-type {\n",
       "        vertical-align: middle;\n",
       "    }\n",
       "\n",
       "    .dataframe tbody tr th {\n",
       "        vertical-align: top;\n",
       "    }\n",
       "\n",
       "    .dataframe thead th {\n",
       "        text-align: right;\n",
       "    }\n",
       "</style>\n",
       "<table border=\"1\" class=\"dataframe\">\n",
       "  <thead>\n",
       "    <tr style=\"text-align: right;\">\n",
       "      <th></th>\n",
       "      <th>count</th>\n",
       "      <th>mean</th>\n",
       "      <th>std</th>\n",
       "      <th>min</th>\n",
       "      <th>25%</th>\n",
       "      <th>50%</th>\n",
       "      <th>75%</th>\n",
       "      <th>max</th>\n",
       "    </tr>\n",
       "  </thead>\n",
       "  <tbody>\n",
       "    <tr>\n",
       "      <th>duration_sec</th>\n",
       "      <td>183412.0</td>\n",
       "      <td>726.078435</td>\n",
       "      <td>1794.389780</td>\n",
       "      <td>61.000000</td>\n",
       "      <td>325.000000</td>\n",
       "      <td>514.000000</td>\n",
       "      <td>796.000000</td>\n",
       "      <td>85444.000000</td>\n",
       "    </tr>\n",
       "    <tr>\n",
       "      <th>start_station_id</th>\n",
       "      <td>183215.0</td>\n",
       "      <td>138.590427</td>\n",
       "      <td>111.778864</td>\n",
       "      <td>3.000000</td>\n",
       "      <td>47.000000</td>\n",
       "      <td>104.000000</td>\n",
       "      <td>239.000000</td>\n",
       "      <td>398.000000</td>\n",
       "    </tr>\n",
       "    <tr>\n",
       "      <th>start_station_latitude</th>\n",
       "      <td>183412.0</td>\n",
       "      <td>37.771223</td>\n",
       "      <td>0.099581</td>\n",
       "      <td>37.317298</td>\n",
       "      <td>37.770083</td>\n",
       "      <td>37.780760</td>\n",
       "      <td>37.797280</td>\n",
       "      <td>37.880222</td>\n",
       "    </tr>\n",
       "    <tr>\n",
       "      <th>start_station_longitude</th>\n",
       "      <td>183412.0</td>\n",
       "      <td>-122.352664</td>\n",
       "      <td>0.117097</td>\n",
       "      <td>-122.453704</td>\n",
       "      <td>-122.412408</td>\n",
       "      <td>-122.398285</td>\n",
       "      <td>-122.286533</td>\n",
       "      <td>-121.874119</td>\n",
       "    </tr>\n",
       "    <tr>\n",
       "      <th>end_station_id</th>\n",
       "      <td>183215.0</td>\n",
       "      <td>136.249123</td>\n",
       "      <td>111.515131</td>\n",
       "      <td>3.000000</td>\n",
       "      <td>44.000000</td>\n",
       "      <td>100.000000</td>\n",
       "      <td>235.000000</td>\n",
       "      <td>398.000000</td>\n",
       "    </tr>\n",
       "    <tr>\n",
       "      <th>end_station_latitude</th>\n",
       "      <td>183412.0</td>\n",
       "      <td>37.771427</td>\n",
       "      <td>0.099490</td>\n",
       "      <td>37.317298</td>\n",
       "      <td>37.770407</td>\n",
       "      <td>37.781010</td>\n",
       "      <td>37.797320</td>\n",
       "      <td>37.880222</td>\n",
       "    </tr>\n",
       "    <tr>\n",
       "      <th>end_station_longitude</th>\n",
       "      <td>183412.0</td>\n",
       "      <td>-122.352250</td>\n",
       "      <td>0.116673</td>\n",
       "      <td>-122.453704</td>\n",
       "      <td>-122.411726</td>\n",
       "      <td>-122.398279</td>\n",
       "      <td>-122.288045</td>\n",
       "      <td>-121.874119</td>\n",
       "    </tr>\n",
       "    <tr>\n",
       "      <th>bike_id</th>\n",
       "      <td>183412.0</td>\n",
       "      <td>4472.906375</td>\n",
       "      <td>1664.383394</td>\n",
       "      <td>11.000000</td>\n",
       "      <td>3777.000000</td>\n",
       "      <td>4958.000000</td>\n",
       "      <td>5502.000000</td>\n",
       "      <td>6645.000000</td>\n",
       "    </tr>\n",
       "    <tr>\n",
       "      <th>member_birth_year</th>\n",
       "      <td>175147.0</td>\n",
       "      <td>1984.806437</td>\n",
       "      <td>10.116689</td>\n",
       "      <td>1878.000000</td>\n",
       "      <td>1980.000000</td>\n",
       "      <td>1987.000000</td>\n",
       "      <td>1992.000000</td>\n",
       "      <td>2001.000000</td>\n",
       "    </tr>\n",
       "  </tbody>\n",
       "</table>\n",
       "</div>"
      ],
      "text/plain": [
       "                            count         mean          std          min  \\\n",
       "duration_sec             183412.0   726.078435  1794.389780    61.000000   \n",
       "start_station_id         183215.0   138.590427   111.778864     3.000000   \n",
       "start_station_latitude   183412.0    37.771223     0.099581    37.317298   \n",
       "start_station_longitude  183412.0  -122.352664     0.117097  -122.453704   \n",
       "end_station_id           183215.0   136.249123   111.515131     3.000000   \n",
       "end_station_latitude     183412.0    37.771427     0.099490    37.317298   \n",
       "end_station_longitude    183412.0  -122.352250     0.116673  -122.453704   \n",
       "bike_id                  183412.0  4472.906375  1664.383394    11.000000   \n",
       "member_birth_year        175147.0  1984.806437    10.116689  1878.000000   \n",
       "\n",
       "                                 25%          50%          75%           max  \n",
       "duration_sec              325.000000   514.000000   796.000000  85444.000000  \n",
       "start_station_id           47.000000   104.000000   239.000000    398.000000  \n",
       "start_station_latitude     37.770083    37.780760    37.797280     37.880222  \n",
       "start_station_longitude  -122.412408  -122.398285  -122.286533   -121.874119  \n",
       "end_station_id             44.000000   100.000000   235.000000    398.000000  \n",
       "end_station_latitude       37.770407    37.781010    37.797320     37.880222  \n",
       "end_station_longitude    -122.411726  -122.398279  -122.288045   -121.874119  \n",
       "bike_id                  3777.000000  4958.000000  5502.000000   6645.000000  \n",
       "member_birth_year        1980.000000  1987.000000  1992.000000   2001.000000  "
      ]
     },
     "execution_count": 4,
     "metadata": {},
     "output_type": "execute_result"
    }
   ],
   "source": [
    "df.describe().T"
   ]
  },
  {
   "cell_type": "markdown",
   "id": "09fe93f8",
   "metadata": {},
   "source": [
    "## Goals\n",
    "\n",
    "---\n",
    "\n",
    "Study the trip duration with differnt ages, and time of the day. Which days require more rides than usual. Study user types and the duration of each type daily and weekly."
   ]
  },
  {
   "cell_type": "markdown",
   "id": "791073ce",
   "metadata": {},
   "source": [
    "# Study\n",
    "---"
   ]
  },
  {
   "cell_type": "code",
   "execution_count": 5,
   "id": "0a7bce6d",
   "metadata": {},
   "outputs": [
    {
     "data": {
      "text/plain": [
       "duration_sec                  0\n",
       "start_time                    0\n",
       "end_time                      0\n",
       "start_station_id            197\n",
       "start_station_name          197\n",
       "start_station_latitude        0\n",
       "start_station_longitude       0\n",
       "end_station_id              197\n",
       "end_station_name            197\n",
       "end_station_latitude          0\n",
       "end_station_longitude         0\n",
       "bike_id                       0\n",
       "user_type                     0\n",
       "member_birth_year          8265\n",
       "member_gender              8265\n",
       "bike_share_for_all_trip       0\n",
       "dtype: int64"
      ]
     },
     "execution_count": 5,
     "metadata": {},
     "output_type": "execute_result"
    }
   ],
   "source": [
    "df.isnull().sum()"
   ]
  },
  {
   "cell_type": "markdown",
   "id": "39de7014",
   "metadata": {},
   "source": [
    "we can tell tha we have some missing data for some trips in start and end stations name and ID \n",
    "so if all the data is missing we can drop them all \n",
    "\n",
    "as well as in some members "
   ]
  },
  {
   "cell_type": "code",
   "execution_count": 6,
   "id": "629ad24e",
   "metadata": {
    "scrolled": true
   },
   "outputs": [
    {
     "data": {
      "text/html": [
       "<div>\n",
       "<style scoped>\n",
       "    .dataframe tbody tr th:only-of-type {\n",
       "        vertical-align: middle;\n",
       "    }\n",
       "\n",
       "    .dataframe tbody tr th {\n",
       "        vertical-align: top;\n",
       "    }\n",
       "\n",
       "    .dataframe thead th {\n",
       "        text-align: right;\n",
       "    }\n",
       "</style>\n",
       "<table border=\"1\" class=\"dataframe\">\n",
       "  <thead>\n",
       "    <tr style=\"text-align: right;\">\n",
       "      <th></th>\n",
       "      <th>duration_sec</th>\n",
       "      <th>start_station_id</th>\n",
       "      <th>start_station_name</th>\n",
       "      <th>start_station_latitude</th>\n",
       "      <th>start_station_longitude</th>\n",
       "      <th>end_station_id</th>\n",
       "      <th>end_station_name</th>\n",
       "      <th>end_station_latitude</th>\n",
       "      <th>end_station_longitude</th>\n",
       "      <th>bike_id</th>\n",
       "      <th>user_type</th>\n",
       "      <th>member_gender</th>\n",
       "      <th>bike_share_for_all_trip</th>\n",
       "      <th>age</th>\n",
       "      <th>Request_time</th>\n",
       "      <th>Drop_time</th>\n",
       "      <th>Trip_Time</th>\n",
       "    </tr>\n",
       "  </thead>\n",
       "  <tbody>\n",
       "    <tr>\n",
       "      <th>0</th>\n",
       "      <td>52185</td>\n",
       "      <td>21.0</td>\n",
       "      <td>Montgomery St BART Station (Market St at 2nd St)</td>\n",
       "      <td>37.789625</td>\n",
       "      <td>-122.400811</td>\n",
       "      <td>13.0</td>\n",
       "      <td>Commercial St at Montgomery St</td>\n",
       "      <td>37.794231</td>\n",
       "      <td>-122.402923</td>\n",
       "      <td>4902</td>\n",
       "      <td>Customer</td>\n",
       "      <td>Male</td>\n",
       "      <td>No</td>\n",
       "      <td>38.0</td>\n",
       "      <td>2019-02-28 17:32:10.145</td>\n",
       "      <td>2019-03-01 08:01:55.975</td>\n",
       "      <td>0 days 14:29:45.830000</td>\n",
       "    </tr>\n",
       "    <tr>\n",
       "      <th>1</th>\n",
       "      <td>42521</td>\n",
       "      <td>23.0</td>\n",
       "      <td>The Embarcadero at Steuart St</td>\n",
       "      <td>37.791464</td>\n",
       "      <td>-122.391034</td>\n",
       "      <td>81.0</td>\n",
       "      <td>Berry St at 4th St</td>\n",
       "      <td>37.775880</td>\n",
       "      <td>-122.393170</td>\n",
       "      <td>2535</td>\n",
       "      <td>Customer</td>\n",
       "      <td>NaN</td>\n",
       "      <td>No</td>\n",
       "      <td>NaN</td>\n",
       "      <td>2019-02-28 18:53:21.789</td>\n",
       "      <td>2019-03-01 06:42:03.056</td>\n",
       "      <td>0 days 11:48:41.267000</td>\n",
       "    </tr>\n",
       "    <tr>\n",
       "      <th>2</th>\n",
       "      <td>61854</td>\n",
       "      <td>86.0</td>\n",
       "      <td>Market St at Dolores St</td>\n",
       "      <td>37.769305</td>\n",
       "      <td>-122.426826</td>\n",
       "      <td>3.0</td>\n",
       "      <td>Powell St BART Station (Market St at 4th St)</td>\n",
       "      <td>37.786375</td>\n",
       "      <td>-122.404904</td>\n",
       "      <td>5905</td>\n",
       "      <td>Customer</td>\n",
       "      <td>Male</td>\n",
       "      <td>No</td>\n",
       "      <td>50.0</td>\n",
       "      <td>2019-02-28 12:13:13.218</td>\n",
       "      <td>2019-03-01 05:24:08.146</td>\n",
       "      <td>0 days 17:10:54.928000</td>\n",
       "    </tr>\n",
       "    <tr>\n",
       "      <th>3</th>\n",
       "      <td>36490</td>\n",
       "      <td>375.0</td>\n",
       "      <td>Grove St at Masonic Ave</td>\n",
       "      <td>37.774836</td>\n",
       "      <td>-122.446546</td>\n",
       "      <td>70.0</td>\n",
       "      <td>Central Ave at Fell St</td>\n",
       "      <td>37.773311</td>\n",
       "      <td>-122.444293</td>\n",
       "      <td>6638</td>\n",
       "      <td>Subscriber</td>\n",
       "      <td>Other</td>\n",
       "      <td>No</td>\n",
       "      <td>33.0</td>\n",
       "      <td>2019-02-28 17:54:26.010</td>\n",
       "      <td>2019-03-01 04:02:36.842</td>\n",
       "      <td>0 days 10:08:10.832000</td>\n",
       "    </tr>\n",
       "    <tr>\n",
       "      <th>4</th>\n",
       "      <td>1585</td>\n",
       "      <td>7.0</td>\n",
       "      <td>Frank H Ogawa Plaza</td>\n",
       "      <td>37.804562</td>\n",
       "      <td>-122.271738</td>\n",
       "      <td>222.0</td>\n",
       "      <td>10th Ave at E 15th St</td>\n",
       "      <td>37.792714</td>\n",
       "      <td>-122.248780</td>\n",
       "      <td>4898</td>\n",
       "      <td>Subscriber</td>\n",
       "      <td>Male</td>\n",
       "      <td>Yes</td>\n",
       "      <td>48.0</td>\n",
       "      <td>2019-02-28 23:54:18.549</td>\n",
       "      <td>2019-03-01 00:20:44.074</td>\n",
       "      <td>0 days 00:26:25.525000</td>\n",
       "    </tr>\n",
       "  </tbody>\n",
       "</table>\n",
       "</div>"
      ],
      "text/plain": [
       "   duration_sec  start_station_id  \\\n",
       "0         52185              21.0   \n",
       "1         42521              23.0   \n",
       "2         61854              86.0   \n",
       "3         36490             375.0   \n",
       "4          1585               7.0   \n",
       "\n",
       "                                 start_station_name  start_station_latitude  \\\n",
       "0  Montgomery St BART Station (Market St at 2nd St)               37.789625   \n",
       "1                     The Embarcadero at Steuart St               37.791464   \n",
       "2                           Market St at Dolores St               37.769305   \n",
       "3                           Grove St at Masonic Ave               37.774836   \n",
       "4                               Frank H Ogawa Plaza               37.804562   \n",
       "\n",
       "   start_station_longitude  end_station_id  \\\n",
       "0              -122.400811            13.0   \n",
       "1              -122.391034            81.0   \n",
       "2              -122.426826             3.0   \n",
       "3              -122.446546            70.0   \n",
       "4              -122.271738           222.0   \n",
       "\n",
       "                               end_station_name  end_station_latitude  \\\n",
       "0                Commercial St at Montgomery St             37.794231   \n",
       "1                            Berry St at 4th St             37.775880   \n",
       "2  Powell St BART Station (Market St at 4th St)             37.786375   \n",
       "3                        Central Ave at Fell St             37.773311   \n",
       "4                         10th Ave at E 15th St             37.792714   \n",
       "\n",
       "   end_station_longitude  bike_id   user_type member_gender  \\\n",
       "0            -122.402923     4902    Customer          Male   \n",
       "1            -122.393170     2535    Customer           NaN   \n",
       "2            -122.404904     5905    Customer          Male   \n",
       "3            -122.444293     6638  Subscriber         Other   \n",
       "4            -122.248780     4898  Subscriber          Male   \n",
       "\n",
       "  bike_share_for_all_trip   age            Request_time  \\\n",
       "0                      No  38.0 2019-02-28 17:32:10.145   \n",
       "1                      No   NaN 2019-02-28 18:53:21.789   \n",
       "2                      No  50.0 2019-02-28 12:13:13.218   \n",
       "3                      No  33.0 2019-02-28 17:54:26.010   \n",
       "4                     Yes  48.0 2019-02-28 23:54:18.549   \n",
       "\n",
       "                Drop_time              Trip_Time  \n",
       "0 2019-03-01 08:01:55.975 0 days 14:29:45.830000  \n",
       "1 2019-03-01 06:42:03.056 0 days 11:48:41.267000  \n",
       "2 2019-03-01 05:24:08.146 0 days 17:10:54.928000  \n",
       "3 2019-03-01 04:02:36.842 0 days 10:08:10.832000  \n",
       "4 2019-03-01 00:20:44.074 0 days 00:26:25.525000  "
      ]
     },
     "execution_count": 6,
     "metadata": {},
     "output_type": "execute_result"
    }
   ],
   "source": [
    "df[\"current year\"]=2022\n",
    "\n",
    "\n",
    "df['age'] = df['current year'] - df['member_birth_year']\n",
    "\n",
    "df.drop([\"current year\",\"member_birth_year\"],axis=1,inplace=True)\n",
    "\n",
    "df[\"Request_time\"]=pd.to_datetime(df[\"start_time\"], infer_datetime_format=True)\n",
    "df[\"Drop_time\"]=pd.to_datetime(df[\"end_time\"], infer_datetime_format=True)\n",
    "\n",
    "\n",
    "df.drop([\"end_time\",\"start_time\"],axis=1,inplace=True)\n",
    "\n",
    "df['Trip_Time'] = df['Drop_time'] - df['Request_time']\n",
    "\n",
    "df.head()"
   ]
  },
  {
   "cell_type": "code",
   "execution_count": 7,
   "id": "20afea07",
   "metadata": {},
   "outputs": [],
   "source": [
    "df_new = df"
   ]
  },
  {
   "cell_type": "code",
   "execution_count": 8,
   "id": "d243f3af",
   "metadata": {},
   "outputs": [
    {
     "name": "stderr",
     "output_type": "stream",
     "text": [
      "C:\\Users\\mahmo\\AppData\\Local\\Temp\\ipykernel_18292\\1327607767.py:6: SettingWithCopyWarning: \n",
      "A value is trying to be set on a copy of a slice from a DataFrame\n",
      "\n",
      "See the caveats in the documentation: https://pandas.pydata.org/pandas-docs/stable/user_guide/indexing.html#returning-a-view-versus-a-copy\n",
      "  df_new['time_of_day'][(df_new['start_hour'] >= 12) & (df_new['start_hour'] <= 17)]='Afternoon'\n",
      "C:\\Users\\mahmo\\AppData\\Local\\Temp\\ipykernel_18292\\1327607767.py:7: SettingWithCopyWarning: \n",
      "A value is trying to be set on a copy of a slice from a DataFrame\n",
      "\n",
      "See the caveats in the documentation: https://pandas.pydata.org/pandas-docs/stable/user_guide/indexing.html#returning-a-view-versus-a-copy\n",
      "  df_new['time_of_day'][(df_new['start_hour'] >= 18) & (df_new['start_hour'] <= 23)]='Night'\n"
     ]
    },
    {
     "data": {
      "text/html": [
       "<div>\n",
       "<style scoped>\n",
       "    .dataframe tbody tr th:only-of-type {\n",
       "        vertical-align: middle;\n",
       "    }\n",
       "\n",
       "    .dataframe tbody tr th {\n",
       "        vertical-align: top;\n",
       "    }\n",
       "\n",
       "    .dataframe thead th {\n",
       "        text-align: right;\n",
       "    }\n",
       "</style>\n",
       "<table border=\"1\" class=\"dataframe\">\n",
       "  <thead>\n",
       "    <tr style=\"text-align: right;\">\n",
       "      <th></th>\n",
       "      <th>day_of_week</th>\n",
       "      <th>start_hour</th>\n",
       "      <th>time_of_day</th>\n",
       "    </tr>\n",
       "  </thead>\n",
       "  <tbody>\n",
       "    <tr>\n",
       "      <th>0</th>\n",
       "      <td>Thursday</td>\n",
       "      <td>17</td>\n",
       "      <td>Afternoon</td>\n",
       "    </tr>\n",
       "    <tr>\n",
       "      <th>1</th>\n",
       "      <td>Thursday</td>\n",
       "      <td>18</td>\n",
       "      <td>Night</td>\n",
       "    </tr>\n",
       "    <tr>\n",
       "      <th>2</th>\n",
       "      <td>Thursday</td>\n",
       "      <td>12</td>\n",
       "      <td>Afternoon</td>\n",
       "    </tr>\n",
       "    <tr>\n",
       "      <th>3</th>\n",
       "      <td>Thursday</td>\n",
       "      <td>17</td>\n",
       "      <td>Afternoon</td>\n",
       "    </tr>\n",
       "    <tr>\n",
       "      <th>4</th>\n",
       "      <td>Thursday</td>\n",
       "      <td>23</td>\n",
       "      <td>Night</td>\n",
       "    </tr>\n",
       "  </tbody>\n",
       "</table>\n",
       "</div>"
      ],
      "text/plain": [
       "  day_of_week  start_hour time_of_day\n",
       "0    Thursday          17   Afternoon\n",
       "1    Thursday          18       Night\n",
       "2    Thursday          12   Afternoon\n",
       "3    Thursday          17   Afternoon\n",
       "4    Thursday          23       Night"
      ]
     },
     "metadata": {},
     "output_type": "display_data"
    }
   ],
   "source": [
    "#extract the day of the week \n",
    "df_new['day_of_week'] = pd.DatetimeIndex(df_new['Request_time']).strftime('%A')\n",
    "#extract the time of the day\n",
    "df_new['start_hour'] = df_new['Request_time'].apply(lambda time: time.hour)\n",
    "df_new['time_of_day'] = 'Morning'\n",
    "df_new['time_of_day'][(df_new['start_hour'] >= 12) & (df_new['start_hour'] <= 17)]='Afternoon'\n",
    "df_new['time_of_day'][(df_new['start_hour'] >= 18) & (df_new['start_hour'] <= 23)]='Night'\n",
    "\n",
    "#show the columns\n",
    "display(df_new[['day_of_week','start_hour','time_of_day']].head())"
   ]
  },
  {
   "cell_type": "markdown",
   "id": "7f4f9772",
   "metadata": {},
   "source": [
    "Now we can deal with the age andtrip duration overall and be easier to undrrstand it better "
   ]
  },
  {
   "cell_type": "markdown",
   "id": "59e48de1",
   "metadata": {},
   "source": [
    "# Data visualisation\n",
    "---\n"
   ]
  },
  {
   "cell_type": "code",
   "execution_count": 9,
   "id": "081682e9",
   "metadata": {},
   "outputs": [
    {
     "data": {
      "text/plain": [
       "Thursday     35197\n",
       "Tuesday      31813\n",
       "Wednesday    29641\n",
       "Friday       28981\n",
       "Monday       26852\n",
       "Sunday       15523\n",
       "Saturday     15405\n",
       "Name: day_of_week, dtype: int64"
      ]
     },
     "metadata": {},
     "output_type": "display_data"
    },
    {
     "data": {
      "image/png": "[encoded data removed]",
      "text/plain": [
       "<Figure size 1800x720 with 2 Axes>"
      ]
     },
     "metadata": {
      "needs_background": "light"
     },
     "output_type": "display_data"
    }
   ],
   "source": [
    "# lets count of trips made in  day of the week \n",
    "display(df_new['day_of_week'].value_counts().sort_values(ascending=False))\n",
    "weekday = ['Monday', 'Tuesday', 'Wednesday', 'Thursday', 'Friday', 'Saturday', 'Sunday']\n",
    "# lets plot the distribution\n",
    "plt.figure(figsize=[25, 10])\n",
    "\n",
    "\n",
    "plt.subplot(1,3,1)\n",
    "sns.countplot(data = df_new ,x ='day_of_week' ,order= weekday)\n",
    "plt.title('Trips by days of the week')\n",
    "plt.xlabel('Days')\n",
    "\n",
    "\n",
    "\n",
    "\n",
    "plt.subplot(1,3,2)\n",
    "sns.countplot(data = df_new ,x ='time_of_day' )\n",
    "plt.title('Trips by time of the day')\n",
    "plt.xlabel('time of the day')\n",
    "plt.show()"
   ]
  },
  {
   "cell_type": "markdown",
   "id": "4ffe5999",
   "metadata": {},
   "source": [
    "Here we can get that thursdays are the most used days and saturdays and sundays are the least most probably because its the weeken"
   ]
  },
  {
   "cell_type": "markdown",
   "id": "0cb44506",
   "metadata": {},
   "source": [
    "the number of rides in the morning and afternoon are almost the same while night much lower "
   ]
  },
  {
   "cell_type": "code",
   "execution_count": 10,
   "id": "1f789728",
   "metadata": {},
   "outputs": [
    {
     "data": {
      "text/plain": [
       "count                       183412\n",
       "mean     0 days 00:12:06.577548164\n",
       "std      0 days 00:29:54.388971051\n",
       "min         0 days 00:01:01.081000\n",
       "25%         0 days 00:05:25.428500\n",
       "50%         0 days 00:08:34.649500\n",
       "75%         0 days 00:13:16.317000\n",
       "max         0 days 23:44:04.830000\n",
       "Name: Trip_Time, dtype: object"
      ]
     },
     "execution_count": 10,
     "metadata": {},
     "output_type": "execute_result"
    }
   ],
   "source": [
    "df['Trip_Time'].describe()"
   ]
  },
  {
   "cell_type": "raw",
   "id": "016cc7e7",
   "metadata": {},
   "source": [
    "Here we can have an overview over the duration of the trips min to max and mean "
   ]
  },
  {
   "cell_type": "code",
   "execution_count": 11,
   "id": "d7ee820a",
   "metadata": {},
   "outputs": [
    {
     "data": {
      "text/plain": [
       "count    175147.000000\n",
       "mean         37.193563\n",
       "std          10.116689\n",
       "min          21.000000\n",
       "25%          30.000000\n",
       "50%          35.000000\n",
       "75%          42.000000\n",
       "max         144.000000\n",
       "Name: age, dtype: float64"
      ]
     },
     "execution_count": 11,
     "metadata": {},
     "output_type": "execute_result"
    }
   ],
   "source": [
    "df['age'].describe()"
   ]
  },
  {
   "cell_type": "markdown",
   "id": "a03d48e3",
   "metadata": {},
   "source": [
    "the average of age is 37 which makes sense while the max is not common "
   ]
  },
  {
   "cell_type": "code",
   "execution_count": 12,
   "id": "edd3fc88",
   "metadata": {},
   "outputs": [
    {
     "data": {
      "text/plain": [
       "<AxesSubplot:xlabel='age'>"
      ]
     },
     "execution_count": 12,
     "metadata": {},
     "output_type": "execute_result"
    },
    {
     "data": {
      "image/png": "[encoded data removed]",
      "text/plain": [
       "<Figure size 1440x1080 with 1 Axes>"
      ]
     },
     "metadata": {
      "needs_background": "light"
     },
     "output_type": "display_data"
    },
    {
     "data": {
      "image/png": "[encoded data removed]",
      "text/plain": [
       "<Figure size 1440x1080 with 1 Axes>"
      ]
     },
     "metadata": {
      "needs_background": "light"
     },
     "output_type": "display_data"
    }
   ],
   "source": [
    "df_encoded = copy.deepcopy(df)\n",
    "df_encoded.loc[:,['Trip_Time','member_gender','user_type']] = df_encoded.loc[:,['Trip_Time','member_gender','user_type']].apply(LabelEncoder().fit_transform) \n",
    "\n",
    "\n",
    "plt.figure(figsize= (20,15))\n",
    "plt.subplot(3,1,1)\n",
    "sns.boxplot(x= df_encoded.Trip_Time, color='lightblue')\n",
    "\n",
    "plt.figure(figsize= (20,15))\n",
    "plt.subplot(3,1,2)\n",
    "sns.boxplot(x= df.age, color='lightblue')"
   ]
  },
  {
   "cell_type": "markdown",
   "id": "f05d0ee4",
   "metadata": {},
   "source": [
    "The trip distribution is even there is no outliers\n",
    "\n",
    "however the age we have some values above 60 and some above 100 which may be a mistake in the data entry "
   ]
  },
  {
   "cell_type": "code",
   "execution_count": 13,
   "id": "5d130118",
   "metadata": {
    "scrolled": false
   },
   "outputs": [
    {
     "data": {
      "text/html": [
       "<div>\n",
       "<style scoped>\n",
       "    .dataframe tbody tr th:only-of-type {\n",
       "        vertical-align: middle;\n",
       "    }\n",
       "\n",
       "    .dataframe tbody tr th {\n",
       "        vertical-align: top;\n",
       "    }\n",
       "\n",
       "    .dataframe thead th {\n",
       "        text-align: right;\n",
       "    }\n",
       "</style>\n",
       "<table border=\"1\" class=\"dataframe\">\n",
       "  <thead>\n",
       "    <tr style=\"text-align: right;\">\n",
       "      <th></th>\n",
       "      <th>duration_sec</th>\n",
       "      <th>start_station_id</th>\n",
       "      <th>start_station_name</th>\n",
       "      <th>start_station_latitude</th>\n",
       "      <th>start_station_longitude</th>\n",
       "      <th>end_station_id</th>\n",
       "      <th>end_station_name</th>\n",
       "      <th>end_station_latitude</th>\n",
       "      <th>end_station_longitude</th>\n",
       "      <th>bike_id</th>\n",
       "      <th>user_type</th>\n",
       "      <th>member_gender</th>\n",
       "      <th>bike_share_for_all_trip</th>\n",
       "      <th>age</th>\n",
       "      <th>Request_time</th>\n",
       "      <th>Drop_time</th>\n",
       "      <th>Trip_Time</th>\n",
       "      <th>day_of_week</th>\n",
       "      <th>start_hour</th>\n",
       "      <th>time_of_day</th>\n",
       "    </tr>\n",
       "  </thead>\n",
       "  <tbody>\n",
       "    <tr>\n",
       "      <th>475</th>\n",
       "      <td>1709</td>\n",
       "      <td>NaN</td>\n",
       "      <td>NaN</td>\n",
       "      <td>37.40</td>\n",
       "      <td>-121.94</td>\n",
       "      <td>NaN</td>\n",
       "      <td>NaN</td>\n",
       "      <td>37.40</td>\n",
       "      <td>-121.93</td>\n",
       "      <td>4211</td>\n",
       "      <td>Customer</td>\n",
       "      <td>Female</td>\n",
       "      <td>No</td>\n",
       "      <td>31.0</td>\n",
       "      <td>2019-02-28 20:55:53.932</td>\n",
       "      <td>2019-02-28 21:24:23.738</td>\n",
       "      <td>0 days 00:28:29.806000</td>\n",
       "      <td>Thursday</td>\n",
       "      <td>20</td>\n",
       "      <td>Night</td>\n",
       "    </tr>\n",
       "    <tr>\n",
       "      <th>1733</th>\n",
       "      <td>1272</td>\n",
       "      <td>NaN</td>\n",
       "      <td>NaN</td>\n",
       "      <td>37.40</td>\n",
       "      <td>-121.94</td>\n",
       "      <td>NaN</td>\n",
       "      <td>NaN</td>\n",
       "      <td>37.41</td>\n",
       "      <td>-121.96</td>\n",
       "      <td>4174</td>\n",
       "      <td>Subscriber</td>\n",
       "      <td>Male</td>\n",
       "      <td>No</td>\n",
       "      <td>42.0</td>\n",
       "      <td>2019-02-28 18:32:34.273</td>\n",
       "      <td>2019-02-28 18:53:46.727</td>\n",
       "      <td>0 days 00:21:12.454000</td>\n",
       "      <td>Thursday</td>\n",
       "      <td>18</td>\n",
       "      <td>Night</td>\n",
       "    </tr>\n",
       "    <tr>\n",
       "      <th>3625</th>\n",
       "      <td>142</td>\n",
       "      <td>NaN</td>\n",
       "      <td>NaN</td>\n",
       "      <td>37.41</td>\n",
       "      <td>-121.95</td>\n",
       "      <td>NaN</td>\n",
       "      <td>NaN</td>\n",
       "      <td>37.41</td>\n",
       "      <td>-121.96</td>\n",
       "      <td>4283</td>\n",
       "      <td>Subscriber</td>\n",
       "      <td>Male</td>\n",
       "      <td>No</td>\n",
       "      <td>34.0</td>\n",
       "      <td>2019-02-28 17:10:46.529</td>\n",
       "      <td>2019-02-28 17:13:09.431</td>\n",
       "      <td>0 days 00:02:22.902000</td>\n",
       "      <td>Thursday</td>\n",
       "      <td>17</td>\n",
       "      <td>Afternoon</td>\n",
       "    </tr>\n",
       "    <tr>\n",
       "      <th>4070</th>\n",
       "      <td>585</td>\n",
       "      <td>NaN</td>\n",
       "      <td>NaN</td>\n",
       "      <td>37.39</td>\n",
       "      <td>-121.93</td>\n",
       "      <td>NaN</td>\n",
       "      <td>NaN</td>\n",
       "      <td>37.40</td>\n",
       "      <td>-121.92</td>\n",
       "      <td>4089</td>\n",
       "      <td>Subscriber</td>\n",
       "      <td>Male</td>\n",
       "      <td>Yes</td>\n",
       "      <td>38.0</td>\n",
       "      <td>2019-02-28 16:28:45.934</td>\n",
       "      <td>2019-02-28 16:38:31.332</td>\n",
       "      <td>0 days 00:09:45.398000</td>\n",
       "      <td>Thursday</td>\n",
       "      <td>16</td>\n",
       "      <td>Afternoon</td>\n",
       "    </tr>\n",
       "    <tr>\n",
       "      <th>5654</th>\n",
       "      <td>509</td>\n",
       "      <td>NaN</td>\n",
       "      <td>NaN</td>\n",
       "      <td>37.40</td>\n",
       "      <td>-121.92</td>\n",
       "      <td>NaN</td>\n",
       "      <td>NaN</td>\n",
       "      <td>37.39</td>\n",
       "      <td>-121.93</td>\n",
       "      <td>4089</td>\n",
       "      <td>Subscriber</td>\n",
       "      <td>Male</td>\n",
       "      <td>Yes</td>\n",
       "      <td>38.0</td>\n",
       "      <td>2019-02-28 12:30:17.131</td>\n",
       "      <td>2019-02-28 12:38:46.329</td>\n",
       "      <td>0 days 00:08:29.198000</td>\n",
       "      <td>Thursday</td>\n",
       "      <td>12</td>\n",
       "      <td>Afternoon</td>\n",
       "    </tr>\n",
       "  </tbody>\n",
       "</table>\n",
       "</div>"
      ],
      "text/plain": [
       "      duration_sec  start_station_id start_station_name  \\\n",
       "475           1709               NaN                NaN   \n",
       "1733          1272               NaN                NaN   \n",
       "3625           142               NaN                NaN   \n",
       "4070           585               NaN                NaN   \n",
       "5654           509               NaN                NaN   \n",
       "\n",
       "      start_station_latitude  start_station_longitude  end_station_id  \\\n",
       "475                    37.40                  -121.94             NaN   \n",
       "1733                   37.40                  -121.94             NaN   \n",
       "3625                   37.41                  -121.95             NaN   \n",
       "4070                   37.39                  -121.93             NaN   \n",
       "5654                   37.40                  -121.92             NaN   \n",
       "\n",
       "     end_station_name  end_station_latitude  end_station_longitude  bike_id  \\\n",
       "475               NaN                 37.40                -121.93     4211   \n",
       "1733              NaN                 37.41                -121.96     4174   \n",
       "3625              NaN                 37.41                -121.96     4283   \n",
       "4070              NaN                 37.40                -121.92     4089   \n",
       "5654              NaN                 37.39                -121.93     4089   \n",
       "\n",
       "       user_type member_gender bike_share_for_all_trip   age  \\\n",
       "475     Customer        Female                      No  31.0   \n",
       "1733  Subscriber          Male                      No  42.0   \n",
       "3625  Subscriber          Male                      No  34.0   \n",
       "4070  Subscriber          Male                     Yes  38.0   \n",
       "5654  Subscriber          Male                     Yes  38.0   \n",
       "\n",
       "                Request_time               Drop_time              Trip_Time  \\\n",
       "475  2019-02-28 20:55:53.932 2019-02-28 21:24:23.738 0 days 00:28:29.806000   \n",
       "1733 2019-02-28 18:32:34.273 2019-02-28 18:53:46.727 0 days 00:21:12.454000   \n",
       "3625 2019-02-28 17:10:46.529 2019-02-28 17:13:09.431 0 days 00:02:22.902000   \n",
       "4070 2019-02-28 16:28:45.934 2019-02-28 16:38:31.332 0 days 00:09:45.398000   \n",
       "5654 2019-02-28 12:30:17.131 2019-02-28 12:38:46.329 0 days 00:08:29.198000   \n",
       "\n",
       "     day_of_week  start_hour time_of_day  \n",
       "475     Thursday          20       Night  \n",
       "1733    Thursday          18       Night  \n",
       "3625    Thursday          17   Afternoon  \n",
       "4070    Thursday          16   Afternoon  \n",
       "5654    Thursday          12   Afternoon  "
      ]
     },
     "execution_count": 13,
     "metadata": {},
     "output_type": "execute_result"
    }
   ],
   "source": [
    "df[df['start_station_id'].isnull()].head()"
   ]
  },
  {
   "cell_type": "code",
   "execution_count": 14,
   "id": "b991b918",
   "metadata": {},
   "outputs": [
    {
     "data": {
      "text/html": [
       "<div>\n",
       "<style scoped>\n",
       "    .dataframe tbody tr th:only-of-type {\n",
       "        vertical-align: middle;\n",
       "    }\n",
       "\n",
       "    .dataframe tbody tr th {\n",
       "        vertical-align: top;\n",
       "    }\n",
       "\n",
       "    .dataframe thead th {\n",
       "        text-align: right;\n",
       "    }\n",
       "</style>\n",
       "<table border=\"1\" class=\"dataframe\">\n",
       "  <thead>\n",
       "    <tr style=\"text-align: right;\">\n",
       "      <th></th>\n",
       "      <th>duration_sec</th>\n",
       "      <th>start_station_id</th>\n",
       "      <th>start_station_name</th>\n",
       "      <th>start_station_latitude</th>\n",
       "      <th>start_station_longitude</th>\n",
       "      <th>end_station_id</th>\n",
       "      <th>end_station_name</th>\n",
       "      <th>end_station_latitude</th>\n",
       "      <th>end_station_longitude</th>\n",
       "      <th>bike_id</th>\n",
       "      <th>user_type</th>\n",
       "      <th>member_gender</th>\n",
       "      <th>bike_share_for_all_trip</th>\n",
       "      <th>age</th>\n",
       "      <th>Request_time</th>\n",
       "      <th>Drop_time</th>\n",
       "      <th>Trip_Time</th>\n",
       "      <th>day_of_week</th>\n",
       "      <th>start_hour</th>\n",
       "      <th>time_of_day</th>\n",
       "    </tr>\n",
       "  </thead>\n",
       "  <tbody>\n",
       "    <tr>\n",
       "      <th>1</th>\n",
       "      <td>42521</td>\n",
       "      <td>23.0</td>\n",
       "      <td>The Embarcadero at Steuart St</td>\n",
       "      <td>37.791464</td>\n",
       "      <td>-122.391034</td>\n",
       "      <td>81.0</td>\n",
       "      <td>Berry St at 4th St</td>\n",
       "      <td>37.775880</td>\n",
       "      <td>-122.393170</td>\n",
       "      <td>2535</td>\n",
       "      <td>Customer</td>\n",
       "      <td>NaN</td>\n",
       "      <td>No</td>\n",
       "      <td>NaN</td>\n",
       "      <td>2019-02-28 18:53:21.789</td>\n",
       "      <td>2019-03-01 06:42:03.056</td>\n",
       "      <td>0 days 11:48:41.267000</td>\n",
       "      <td>Thursday</td>\n",
       "      <td>18</td>\n",
       "      <td>Night</td>\n",
       "    </tr>\n",
       "    <tr>\n",
       "      <th>13</th>\n",
       "      <td>915</td>\n",
       "      <td>252.0</td>\n",
       "      <td>Channing Way at Shattuck Ave</td>\n",
       "      <td>37.865847</td>\n",
       "      <td>-122.267443</td>\n",
       "      <td>244.0</td>\n",
       "      <td>Shattuck Ave at Hearst Ave</td>\n",
       "      <td>37.873676</td>\n",
       "      <td>-122.268487</td>\n",
       "      <td>5101</td>\n",
       "      <td>Subscriber</td>\n",
       "      <td>NaN</td>\n",
       "      <td>No</td>\n",
       "      <td>NaN</td>\n",
       "      <td>2019-02-28 23:49:06.062</td>\n",
       "      <td>2019-03-01 00:04:21.867</td>\n",
       "      <td>0 days 00:15:15.805000</td>\n",
       "      <td>Thursday</td>\n",
       "      <td>23</td>\n",
       "      <td>Night</td>\n",
       "    </tr>\n",
       "    <tr>\n",
       "      <th>28</th>\n",
       "      <td>650</td>\n",
       "      <td>258.0</td>\n",
       "      <td>University Ave at Oxford St</td>\n",
       "      <td>37.872355</td>\n",
       "      <td>-122.266447</td>\n",
       "      <td>263.0</td>\n",
       "      <td>Channing Way at San Pablo Ave</td>\n",
       "      <td>37.862827</td>\n",
       "      <td>-122.290231</td>\n",
       "      <td>4784</td>\n",
       "      <td>Customer</td>\n",
       "      <td>NaN</td>\n",
       "      <td>No</td>\n",
       "      <td>NaN</td>\n",
       "      <td>2019-02-28 23:43:27.503</td>\n",
       "      <td>2019-02-28 23:54:18.451</td>\n",
       "      <td>0 days 00:10:50.948000</td>\n",
       "      <td>Thursday</td>\n",
       "      <td>23</td>\n",
       "      <td>Night</td>\n",
       "    </tr>\n",
       "    <tr>\n",
       "      <th>53</th>\n",
       "      <td>3418</td>\n",
       "      <td>11.0</td>\n",
       "      <td>Davis St at Jackson St</td>\n",
       "      <td>37.797280</td>\n",
       "      <td>-122.398436</td>\n",
       "      <td>11.0</td>\n",
       "      <td>Davis St at Jackson St</td>\n",
       "      <td>37.797280</td>\n",
       "      <td>-122.398436</td>\n",
       "      <td>319</td>\n",
       "      <td>Customer</td>\n",
       "      <td>NaN</td>\n",
       "      <td>No</td>\n",
       "      <td>NaN</td>\n",
       "      <td>2019-02-28 22:41:16.362</td>\n",
       "      <td>2019-02-28 23:38:14.363</td>\n",
       "      <td>0 days 00:56:58.001000</td>\n",
       "      <td>Thursday</td>\n",
       "      <td>22</td>\n",
       "      <td>Night</td>\n",
       "    </tr>\n",
       "    <tr>\n",
       "      <th>65</th>\n",
       "      <td>926</td>\n",
       "      <td>13.0</td>\n",
       "      <td>Commercial St at Montgomery St</td>\n",
       "      <td>37.794231</td>\n",
       "      <td>-122.402923</td>\n",
       "      <td>81.0</td>\n",
       "      <td>Berry St at 4th St</td>\n",
       "      <td>37.775880</td>\n",
       "      <td>-122.393170</td>\n",
       "      <td>2951</td>\n",
       "      <td>Subscriber</td>\n",
       "      <td>NaN</td>\n",
       "      <td>No</td>\n",
       "      <td>NaN</td>\n",
       "      <td>2019-02-28 23:17:05.853</td>\n",
       "      <td>2019-02-28 23:32:32.682</td>\n",
       "      <td>0 days 00:15:26.829000</td>\n",
       "      <td>Thursday</td>\n",
       "      <td>23</td>\n",
       "      <td>Night</td>\n",
       "    </tr>\n",
       "  </tbody>\n",
       "</table>\n",
       "</div>"
      ],
      "text/plain": [
       "    duration_sec  start_station_id              start_station_name  \\\n",
       "1          42521              23.0   The Embarcadero at Steuart St   \n",
       "13           915             252.0    Channing Way at Shattuck Ave   \n",
       "28           650             258.0     University Ave at Oxford St   \n",
       "53          3418              11.0          Davis St at Jackson St   \n",
       "65           926              13.0  Commercial St at Montgomery St   \n",
       "\n",
       "    start_station_latitude  start_station_longitude  end_station_id  \\\n",
       "1                37.791464              -122.391034            81.0   \n",
       "13               37.865847              -122.267443           244.0   \n",
       "28               37.872355              -122.266447           263.0   \n",
       "53               37.797280              -122.398436            11.0   \n",
       "65               37.794231              -122.402923            81.0   \n",
       "\n",
       "                 end_station_name  end_station_latitude  \\\n",
       "1              Berry St at 4th St             37.775880   \n",
       "13     Shattuck Ave at Hearst Ave             37.873676   \n",
       "28  Channing Way at San Pablo Ave             37.862827   \n",
       "53         Davis St at Jackson St             37.797280   \n",
       "65             Berry St at 4th St             37.775880   \n",
       "\n",
       "    end_station_longitude  bike_id   user_type member_gender  \\\n",
       "1             -122.393170     2535    Customer           NaN   \n",
       "13            -122.268487     5101  Subscriber           NaN   \n",
       "28            -122.290231     4784    Customer           NaN   \n",
       "53            -122.398436      319    Customer           NaN   \n",
       "65            -122.393170     2951  Subscriber           NaN   \n",
       "\n",
       "   bike_share_for_all_trip  age            Request_time  \\\n",
       "1                       No  NaN 2019-02-28 18:53:21.789   \n",
       "13                      No  NaN 2019-02-28 23:49:06.062   \n",
       "28                      No  NaN 2019-02-28 23:43:27.503   \n",
       "53                      No  NaN 2019-02-28 22:41:16.362   \n",
       "65                      No  NaN 2019-02-28 23:17:05.853   \n",
       "\n",
       "                 Drop_time              Trip_Time day_of_week  start_hour  \\\n",
       "1  2019-03-01 06:42:03.056 0 days 11:48:41.267000    Thursday          18   \n",
       "13 2019-03-01 00:04:21.867 0 days 00:15:15.805000    Thursday          23   \n",
       "28 2019-02-28 23:54:18.451 0 days 00:10:50.948000    Thursday          23   \n",
       "53 2019-02-28 23:38:14.363 0 days 00:56:58.001000    Thursday          22   \n",
       "65 2019-02-28 23:32:32.682 0 days 00:15:26.829000    Thursday          23   \n",
       "\n",
       "   time_of_day  \n",
       "1        Night  \n",
       "13       Night  \n",
       "28       Night  \n",
       "53       Night  \n",
       "65       Night  "
      ]
     },
     "execution_count": 14,
     "metadata": {},
     "output_type": "execute_result"
    }
   ],
   "source": [
    "df[df['member_gender'].isnull()].head()"
   ]
  },
  {
   "cell_type": "markdown",
   "id": "60fad9cd",
   "metadata": {},
   "source": [
    "I don't think the null values will afect the data since the missing in gender are so minor while the rest of the data can be studied normally \n",
    "\n",
    "as well as the stations ID wont vary that much "
   ]
  },
  {
   "cell_type": "code",
   "execution_count": 15,
   "id": "bd8ec9f0",
   "metadata": {},
   "outputs": [
    {
     "data": {
      "text/plain": [
       "<AxesSubplot:ylabel='member_gender'>"
      ]
     },
     "execution_count": 15,
     "metadata": {},
     "output_type": "execute_result"
    },
    {
     "data": {
      "image/png": "[encoded data removed]",
      "text/plain": [
       "<Figure size 1800x1440 with 2 Axes>"
      ]
     },
     "metadata": {},
     "output_type": "display_data"
    }
   ],
   "source": [
    "plt.figure(figsize=(25,20))\n",
    "\n",
    "plt.subplot(1,3,1)\n",
    "df['user_type'].value_counts().plot(kind = 'pie')\n",
    "\n",
    "plt.subplot(1,3,2)\n",
    "df['member_gender'].value_counts().plot(kind = 'pie')\n",
    "\n",
    "\n",
    "\n",
    "# plt.subplot(1,3,3)\n",
    "# df['age'].value_counts().plot(kind = 'pie')"
   ]
  },
  {
   "cell_type": "markdown",
   "id": "49cb86e9",
   "metadata": {},
   "source": []
  },
  {
   "cell_type": "markdown",
   "id": "948cbda4",
   "metadata": {},
   "source": [
    "Here we can see that most users are subscribers while the rest are casual users of the service which can expected\n",
    "and most of the trips are made by males and about the quarter are made by females "
   ]
  },
  {
   "cell_type": "code",
   "execution_count": 16,
   "id": "cc71fc40",
   "metadata": {},
   "outputs": [
    {
     "data": {
      "text/plain": [
       "duration_sec               19868\n",
       "start_station_id           19801\n",
       "start_station_name         19801\n",
       "start_station_latitude     19868\n",
       "start_station_longitude    19868\n",
       "end_station_id             19801\n",
       "end_station_name           19801\n",
       "end_station_latitude       19868\n",
       "end_station_longitude      19868\n",
       "bike_id                    19868\n",
       "user_type                  19868\n",
       "member_gender              16631\n",
       "bike_share_for_all_trip    19868\n",
       "age                        16631\n",
       "Request_time               19868\n",
       "Drop_time                  19868\n",
       "Trip_Time                  19868\n",
       "day_of_week                19868\n",
       "start_hour                 19868\n",
       "time_of_day                19868\n",
       "dtype: int64"
      ]
     },
     "execution_count": 16,
     "metadata": {},
     "output_type": "execute_result"
    }
   ],
   "source": [
    "df[df[\"user_type\"]==\"Customer\"].count()"
   ]
  },
  {
   "cell_type": "code",
   "execution_count": 17,
   "id": "f2b2502a",
   "metadata": {},
   "outputs": [
    {
     "data": {
      "text/plain": [
       "duration_sec               163544\n",
       "start_station_id           163414\n",
       "start_station_name         163414\n",
       "start_station_latitude     163544\n",
       "start_station_longitude    163544\n",
       "end_station_id             163414\n",
       "end_station_name           163414\n",
       "end_station_latitude       163544\n",
       "end_station_longitude      163544\n",
       "bike_id                    163544\n",
       "user_type                  163544\n",
       "member_gender              158516\n",
       "bike_share_for_all_trip    163544\n",
       "age                        158516\n",
       "Request_time               163544\n",
       "Drop_time                  163544\n",
       "Trip_Time                  163544\n",
       "day_of_week                163544\n",
       "start_hour                 163544\n",
       "time_of_day                163544\n",
       "dtype: int64"
      ]
     },
     "execution_count": 17,
     "metadata": {},
     "output_type": "execute_result"
    }
   ],
   "source": [
    "df[df[\"user_type\"]==\"Subscriber\"].count()"
   ]
  },
  {
   "cell_type": "markdown",
   "id": "397248d4",
   "metadata": {},
   "source": [
    "Here to get a specific number for subscribers vs costomers "
   ]
  },
  {
   "cell_type": "code",
   "execution_count": 95,
   "id": "4456b6cb",
   "metadata": {},
   "outputs": [],
   "source": [
    "# plt.figure(figsize= (20,30))\n",
    "# plt.subplot(3,1,1)\n",
    "# sns.scatterplot(df_new.day_of_week, df_new.age,hue=df_new.time_of_day ,alpha=0.6)"
   ]
  },
  {
   "cell_type": "markdown",
   "id": "e4aa718a",
   "metadata": {},
   "source": []
  },
  {
   "cell_type": "code",
   "execution_count": 47,
   "id": "4e47acb8",
   "metadata": {},
   "outputs": [
    {
     "data": {
      "text/html": [
       "<div>\n",
       "<style scoped>\n",
       "    .dataframe tbody tr th:only-of-type {\n",
       "        vertical-align: middle;\n",
       "    }\n",
       "\n",
       "    .dataframe tbody tr th {\n",
       "        vertical-align: top;\n",
       "    }\n",
       "\n",
       "    .dataframe thead th {\n",
       "        text-align: right;\n",
       "    }\n",
       "</style>\n",
       "<table border=\"1\" class=\"dataframe\">\n",
       "  <thead>\n",
       "    <tr style=\"text-align: right;\">\n",
       "      <th></th>\n",
       "      <th>duration_sec</th>\n",
       "      <th>start_station_id</th>\n",
       "      <th>start_station_name</th>\n",
       "      <th>start_station_latitude</th>\n",
       "      <th>start_station_longitude</th>\n",
       "      <th>end_station_id</th>\n",
       "      <th>end_station_name</th>\n",
       "      <th>end_station_latitude</th>\n",
       "      <th>end_station_longitude</th>\n",
       "      <th>bike_id</th>\n",
       "      <th>user_type</th>\n",
       "      <th>member_gender</th>\n",
       "      <th>bike_share_for_all_trip</th>\n",
       "      <th>age</th>\n",
       "      <th>Request_time</th>\n",
       "      <th>Drop_time</th>\n",
       "      <th>Trip_Time</th>\n",
       "      <th>day_of_week</th>\n",
       "      <th>start_hour</th>\n",
       "      <th>time_of_day</th>\n",
       "    </tr>\n",
       "  </thead>\n",
       "  <tbody>\n",
       "    <tr>\n",
       "      <th>0</th>\n",
       "      <td>52185</td>\n",
       "      <td>21.0</td>\n",
       "      <td>Montgomery St BART Station (Market St at 2nd St)</td>\n",
       "      <td>37.789625</td>\n",
       "      <td>-122.400811</td>\n",
       "      <td>13.0</td>\n",
       "      <td>Commercial St at Montgomery St</td>\n",
       "      <td>37.794231</td>\n",
       "      <td>-122.402923</td>\n",
       "      <td>4902</td>\n",
       "      <td>Customer</td>\n",
       "      <td>Male</td>\n",
       "      <td>No</td>\n",
       "      <td>Adults</td>\n",
       "      <td>2019-02-28 17:32:10.145</td>\n",
       "      <td>2019-03-01 08:01:55.975</td>\n",
       "      <td>0 days 14:29:45.830000</td>\n",
       "      <td>Thursday</td>\n",
       "      <td>17</td>\n",
       "      <td>Afternoon</td>\n",
       "    </tr>\n",
       "    <tr>\n",
       "      <th>1</th>\n",
       "      <td>42521</td>\n",
       "      <td>23.0</td>\n",
       "      <td>The Embarcadero at Steuart St</td>\n",
       "      <td>37.791464</td>\n",
       "      <td>-122.391034</td>\n",
       "      <td>81.0</td>\n",
       "      <td>Berry St at 4th St</td>\n",
       "      <td>37.775880</td>\n",
       "      <td>-122.393170</td>\n",
       "      <td>2535</td>\n",
       "      <td>Customer</td>\n",
       "      <td>NaN</td>\n",
       "      <td>No</td>\n",
       "      <td>NaN</td>\n",
       "      <td>2019-02-28 18:53:21.789</td>\n",
       "      <td>2019-03-01 06:42:03.056</td>\n",
       "      <td>0 days 11:48:41.267000</td>\n",
       "      <td>Thursday</td>\n",
       "      <td>18</td>\n",
       "      <td>Night</td>\n",
       "    </tr>\n",
       "    <tr>\n",
       "      <th>2</th>\n",
       "      <td>61854</td>\n",
       "      <td>86.0</td>\n",
       "      <td>Market St at Dolores St</td>\n",
       "      <td>37.769305</td>\n",
       "      <td>-122.426826</td>\n",
       "      <td>3.0</td>\n",
       "      <td>Powell St BART Station (Market St at 4th St)</td>\n",
       "      <td>37.786375</td>\n",
       "      <td>-122.404904</td>\n",
       "      <td>5905</td>\n",
       "      <td>Customer</td>\n",
       "      <td>Male</td>\n",
       "      <td>No</td>\n",
       "      <td>Adults</td>\n",
       "      <td>2019-02-28 12:13:13.218</td>\n",
       "      <td>2019-03-01 05:24:08.146</td>\n",
       "      <td>0 days 17:10:54.928000</td>\n",
       "      <td>Thursday</td>\n",
       "      <td>12</td>\n",
       "      <td>Afternoon</td>\n",
       "    </tr>\n",
       "    <tr>\n",
       "      <th>3</th>\n",
       "      <td>36490</td>\n",
       "      <td>375.0</td>\n",
       "      <td>Grove St at Masonic Ave</td>\n",
       "      <td>37.774836</td>\n",
       "      <td>-122.446546</td>\n",
       "      <td>70.0</td>\n",
       "      <td>Central Ave at Fell St</td>\n",
       "      <td>37.773311</td>\n",
       "      <td>-122.444293</td>\n",
       "      <td>6638</td>\n",
       "      <td>Subscriber</td>\n",
       "      <td>Other</td>\n",
       "      <td>No</td>\n",
       "      <td>Adults</td>\n",
       "      <td>2019-02-28 17:54:26.010</td>\n",
       "      <td>2019-03-01 04:02:36.842</td>\n",
       "      <td>0 days 10:08:10.832000</td>\n",
       "      <td>Thursday</td>\n",
       "      <td>17</td>\n",
       "      <td>Afternoon</td>\n",
       "    </tr>\n",
       "    <tr>\n",
       "      <th>4</th>\n",
       "      <td>1585</td>\n",
       "      <td>7.0</td>\n",
       "      <td>Frank H Ogawa Plaza</td>\n",
       "      <td>37.804562</td>\n",
       "      <td>-122.271738</td>\n",
       "      <td>222.0</td>\n",
       "      <td>10th Ave at E 15th St</td>\n",
       "      <td>37.792714</td>\n",
       "      <td>-122.248780</td>\n",
       "      <td>4898</td>\n",
       "      <td>Subscriber</td>\n",
       "      <td>Male</td>\n",
       "      <td>Yes</td>\n",
       "      <td>Adults</td>\n",
       "      <td>2019-02-28 23:54:18.549</td>\n",
       "      <td>2019-03-01 00:20:44.074</td>\n",
       "      <td>0 days 00:26:25.525000</td>\n",
       "      <td>Thursday</td>\n",
       "      <td>23</td>\n",
       "      <td>Night</td>\n",
       "    </tr>\n",
       "  </tbody>\n",
       "</table>\n",
       "</div>"
      ],
      "text/plain": [
       "   duration_sec  start_station_id  \\\n",
       "0         52185              21.0   \n",
       "1         42521              23.0   \n",
       "2         61854              86.0   \n",
       "3         36490             375.0   \n",
       "4          1585               7.0   \n",
       "\n",
       "                                 start_station_name  start_station_latitude  \\\n",
       "0  Montgomery St BART Station (Market St at 2nd St)               37.789625   \n",
       "1                     The Embarcadero at Steuart St               37.791464   \n",
       "2                           Market St at Dolores St               37.769305   \n",
       "3                           Grove St at Masonic Ave               37.774836   \n",
       "4                               Frank H Ogawa Plaza               37.804562   \n",
       "\n",
       "   start_station_longitude  end_station_id  \\\n",
       "0              -122.400811            13.0   \n",
       "1              -122.391034            81.0   \n",
       "2              -122.426826             3.0   \n",
       "3              -122.446546            70.0   \n",
       "4              -122.271738           222.0   \n",
       "\n",
       "                               end_station_name  end_station_latitude  \\\n",
       "0                Commercial St at Montgomery St             37.794231   \n",
       "1                            Berry St at 4th St             37.775880   \n",
       "2  Powell St BART Station (Market St at 4th St)             37.786375   \n",
       "3                        Central Ave at Fell St             37.773311   \n",
       "4                         10th Ave at E 15th St             37.792714   \n",
       "\n",
       "   end_station_longitude  bike_id   user_type member_gender  \\\n",
       "0            -122.402923     4902    Customer          Male   \n",
       "1            -122.393170     2535    Customer           NaN   \n",
       "2            -122.404904     5905    Customer          Male   \n",
       "3            -122.444293     6638  Subscriber         Other   \n",
       "4            -122.248780     4898  Subscriber          Male   \n",
       "\n",
       "  bike_share_for_all_trip     age            Request_time  \\\n",
       "0                      No  Adults 2019-02-28 17:32:10.145   \n",
       "1                      No     NaN 2019-02-28 18:53:21.789   \n",
       "2                      No  Adults 2019-02-28 12:13:13.218   \n",
       "3                      No  Adults 2019-02-28 17:54:26.010   \n",
       "4                     Yes  Adults 2019-02-28 23:54:18.549   \n",
       "\n",
       "                Drop_time              Trip_Time day_of_week  start_hour  \\\n",
       "0 2019-03-01 08:01:55.975 0 days 14:29:45.830000    Thursday          17   \n",
       "1 2019-03-01 06:42:03.056 0 days 11:48:41.267000    Thursday          18   \n",
       "2 2019-03-01 05:24:08.146 0 days 17:10:54.928000    Thursday          12   \n",
       "3 2019-03-01 04:02:36.842 0 days 10:08:10.832000    Thursday          17   \n",
       "4 2019-03-01 00:20:44.074 0 days 00:26:25.525000    Thursday          23   \n",
       "\n",
       "  time_of_day  \n",
       "0   Afternoon  \n",
       "1       Night  \n",
       "2   Afternoon  \n",
       "3   Afternoon  \n",
       "4       Night  "
      ]
     },
     "execution_count": 47,
     "metadata": {},
     "output_type": "execute_result"
    }
   ],
   "source": [
    "def age(x):\n",
    "    if x >= 18 and x <= 28:\n",
    "          return 'Youth'\n",
    "    if x >= 29 and x <= 64:\n",
    "        return 'Adults'\n",
    "    if x >= 65:\n",
    "          return 'Eldery'\n",
    "    else:\n",
    "        return x\n",
    "    \n",
    "    \n",
    "df_new['age'] = df_new.age.apply(lambda x: age(x))\n",
    "\n",
    "df_new.head()"
   ]
  },
  {
   "cell_type": "code",
   "execution_count": 90,
   "id": "8939e439",
   "metadata": {},
   "outputs": [
    {
     "data": {
      "image/png": "[encoded data removed]",
      "text/plain": [
       "<Figure size 1440x360 with 1 Axes>"
      ]
     },
     "metadata": {
      "needs_background": "light"
     },
     "output_type": "display_data"
    }
   ],
   "source": [
    "plt.figure(figsize=[20, 5])\n",
    "\n",
    "color_b = sns.color_palette()[0]\n",
    "sns.countplot( data = df_new, x ='age', color = color_b)\n",
    "plt.title('Distribution in Age groups')\n",
    "plt.xlabel('Age Group')\n",
    "plt.show()\n",
    "\n"
   ]
  },
  {
   "cell_type": "markdown",
   "id": "08154ad9",
   "metadata": {},
   "source": [
    "From this plot we can see most of the users are adults "
   ]
  },
  {
   "cell_type": "code",
   "execution_count": 94,
   "id": "d509819b",
   "metadata": {
    "scrolled": true
   },
   "outputs": [
    {
     "data": {
      "image/png": "[encoded data removed]",
      "text/plain": [
       "<Figure size 1800x360 with 1 Axes>"
      ]
     },
     "metadata": {
      "needs_background": "light"
     },
     "output_type": "display_data"
    }
   ],
   "source": [
    "plt.figure(figsize= (25,5))\n",
    "color_b = sns.color_palette()[0]\n",
    "sns.countplot( data = df_new, x ='duration_sec', color = color_b)\n",
    "# plt.title('Distribution in Age groups')\n",
    "plt.xlabel('duration_sec')\n",
    "plt.show()"
   ]
  },
  {
   "cell_type": "markdown",
   "id": "086366d8",
   "metadata": {},
   "source": [
    "From this shape we can imagine that most of the trips are around the same duration and people don't ride for too long which we described earlier"
   ]
  },
  {
   "cell_type": "code",
   "execution_count": 80,
   "id": "98b8c79e",
   "metadata": {},
   "outputs": [
    {
     "data": {
      "text/plain": [
       "Text(0, 0.5, 'Trip duration(sec)')"
      ]
     },
     "execution_count": 80,
     "metadata": {},
     "output_type": "execute_result"
    },
    {
     "data": {
      "image/png": "[encoded data removed]",
      "text/plain": [
       "<Figure size 1800x1800 with 4 Axes>"
      ]
     },
     "metadata": {
      "needs_background": "light"
     },
     "output_type": "display_data"
    }
   ],
   "source": [
    "plt.figure(figsize= (25,25))\n",
    "\n",
    "plt.subplot(2,2,1)\n",
    "df_new.groupby('day_of_week')['duration_sec'].mean().plot(kind = 'bar')\n",
    "plt.title('Average Trip duration per day of the week')\n",
    "plt.xlabel('day_of_week', labelpad = 16)\n",
    "plt.ylabel('Trip duration(sec)',labelpad = 16)\n",
    "\n",
    "\n",
    "\n",
    "plt.subplot(2,2,2)\n",
    "df_new.groupby('age')['duration_sec'].mean().plot(kind = 'bar')\n",
    "plt.title('Average Trip duration per age group')\n",
    "plt.xlabel('member age group', labelpad = 16)\n",
    "plt.ylabel('Trip duration(sec)',labelpad = 16)\n",
    "\n",
    "\n",
    "\n",
    "plt.subplot(2,2,3)\n",
    "df_new.groupby('time_of_day')['duration_sec'].mean().plot(kind = 'bar')\n",
    "plt.title('Average Trip duration per time of the day')\n",
    "plt.xlabel('time_of_day', labelpad = 16)\n",
    "plt.ylabel('Trip duration(sec)',labelpad = 16)\n",
    "\n",
    "\n",
    "plt.subplot(2,2,4)\n",
    "df_new.groupby('start_hour')['duration_sec'].mean().plot(kind = 'bar')\n",
    "plt.title('Average Trip duration per starting hour')\n",
    "plt.xlabel('start_hour', labelpad = 16)\n",
    "plt.ylabel('Trip duration(sec)',labelpad = 16)"
   ]
  },
  {
   "cell_type": "markdown",
   "id": "c6df0139",
   "metadata": {},
   "source": [
    "Here we find that the trip duration increase depending on the day,however the sundays and saturdays scor the least rides but shows the longest ride duration, which may be an indication that people ride for fun and no hurry in their trips."
   ]
  },
  {
   "cell_type": "markdown",
   "id": "09020809",
   "metadata": {},
   "source": [
    "Regarding the second plot it makes sense that elder people take more time in their trips than usual"
   ]
  },
  {
   "cell_type": "markdown",
   "id": "4116aa91",
   "metadata": {},
   "source": [
    "From the third plot we get that the longst durations happen in the afternoonwhich may be because of trafic at this time"
   ]
  },
  {
   "cell_type": "markdown",
   "id": "7948a925",
   "metadata": {},
   "source": [
    "The forth plot ashows the same since the afternoon hours record the the longest durations"
   ]
  },
  {
   "cell_type": "code",
   "execution_count": 75,
   "id": "e3dfca04",
   "metadata": {
    "scrolled": false
   },
   "outputs": [
    {
     "data": {
      "text/plain": [
       "Text(0.5, 0, 'start_hour')"
      ]
     },
     "execution_count": 75,
     "metadata": {},
     "output_type": "execute_result"
    },
    {
     "data": {
      "image/png": "[encoded data removed]",
      "text/plain": [
       "<Figure size 1800x3240 with 1 Axes>"
      ]
     },
     "metadata": {
      "needs_background": "light"
     },
     "output_type": "display_data"
    }
   ],
   "source": [
    "plt.figure(figsize= (25,45))\n",
    "plt.subplot(3,1,1)\n",
    "plt.hist(df_new.start_hour, color='lightblue', edgecolor = 'black', alpha = 0.7)\n",
    "plt.xlabel('start_hour')"
   ]
  },
  {
   "cell_type": "markdown",
   "id": "5db00dee",
   "metadata": {},
   "source": [
    "This Histogram shows the most hours or the hours people use the service the most"
   ]
  },
  {
   "cell_type": "code",
   "execution_count": 111,
   "id": "07343bd0",
   "metadata": {},
   "outputs": [
    {
     "data": {
      "text/plain": [
       "Text(0, 0.5, 'Trip duration(sec)')"
      ]
     },
     "execution_count": 111,
     "metadata": {},
     "output_type": "execute_result"
    },
    {
     "data": {
      "image/png": "[encoded data removed]",
      "text/plain": [
       "<Figure size 1800x720 with 2 Axes>"
      ]
     },
     "metadata": {
      "needs_background": "light"
     },
     "output_type": "display_data"
    }
   ],
   "source": [
    "plt.figure(figsize= (25,10))\n",
    "\n",
    "plt.subplot(1,2,1)\n",
    "df_new.groupby('member_gender')['duration_sec'].mean().plot(kind = 'bar')\n",
    "plt.title('Average Trip duration per gender')\n",
    "plt.xlabel('member_gender', labelpad = 16)\n",
    "plt.ylabel('Trip duration(sec)',labelpad = 16)\n",
    "\n",
    "\n",
    "\n",
    "plt.subplot(1,2,2)\n",
    "df_new.groupby('user_type')['duration_sec'].mean().plot(kind = 'bar')\n",
    "plt.title('Average Trip duration per user type')\n",
    "plt.xlabel('user_type', labelpad = 16)\n",
    "plt.ylabel('Trip duration(sec)',labelpad = 16)\n"
   ]
  },
  {
   "cell_type": "markdown",
   "id": "22442e48",
   "metadata": {},
   "source": [
    "Here we can see that Males take less time in trips than females \n",
    "\n",
    "and customers take longer time in trips much more than subscribers which maybe an indication for that subscribers do repititive trips all the week while customers take it every once in a while for long rides"
   ]
  },
  {
   "cell_type": "code",
   "execution_count": 119,
   "id": "33fe84c6",
   "metadata": {},
   "outputs": [
    {
     "name": "stderr",
     "output_type": "stream",
     "text": [
      "D:\\Programming\\New folder (2)\\lib\\site-packages\\seaborn\\_decorators.py:36: FutureWarning: Pass the following variables as keyword args: x, y. From version 0.12, the only valid positional argument will be `data`, and passing other arguments without an explicit keyword will result in an error or misinterpretation.\n",
      "  warnings.warn(\n"
     ]
    },
    {
     "data": {
      "text/plain": [
       "<AxesSubplot:xlabel='day_of_week', ylabel='duration_sec'>"
      ]
     },
     "execution_count": 119,
     "metadata": {},
     "output_type": "execute_result"
    },
    {
     "data": {
      "image/png": "[encoded data removed]",
      "text/plain": [
       "<Figure size 1440x4320 with 1 Axes>"
      ]
     },
     "metadata": {
      "needs_background": "light"
     },
     "output_type": "display_data"
    }
   ],
   "source": [
    "plt.figure(figsize= (20,60))\n",
    "plt.subplot(3,1,1)\n",
    "# sns.scatterplot(df_new.day_of_week, df_new.user_type ,alpha=0.6)\n",
    "\n",
    "sns.scatterplot(df_new.day_of_week, df_new.duration_sec ,hue=df_new.user_type ,alpha=0.6)"
   ]
  },
  {
   "cell_type": "markdown",
   "id": "6c5b1209",
   "metadata": {},
   "source": [
    "From this plot we can deduce that customers use this service only on weekends and shows that most long durations are made by customers and this can link the previous data we studied \n",
    "\n",
    "And a lot of customers are shown on thursdays which on of the most user days for this service almost by everyone."
   ]
  },
  {
   "cell_type": "markdown",
   "id": "ce127005",
   "metadata": {},
   "source": [
    "# Conclusion"
   ]
  },
  {
   "cell_type": "markdown",
   "id": "af36f92a",
   "metadata": {},
   "source": [
    "From this study we can tell the following:\n",
    "\n",
    "\n",
    "1.Thursdays are the most days the service is used by either customers and subscribers.\n",
    "\n",
    "2.The overall trips count made at morning and afternoon are almost the same amount than night.\n",
    "\n",
    "3.Trip average of trip time in about 12 hours per trip while most of the trips are around 13min trip\n",
    "\n",
    "4.The number of subscribers is so high and shows that a lot of people are depending on the service, while the number of customers is really low and looks like they use the service for fun while the use it on weekends most of the time and the duration is notably higher than average, and they use it on thursdays as well and seems like people need to transport the most on that day.\n",
    "\n",
    "5.Most of the users shows to be Males, and adults between 29 and 64 years old.\n",
    "\n",
    "6.It shows a noticable higher duration time at afternoon time maybe because of trafic.\n"
   ]
  }
 ],
 "metadata": {
  "kernelspec": {
   "display_name": "Python 3 (ipykernel)",
   "language": "python",
   "name": "python3"
  },
  "language_info": {
   "codemirror_mode": {
    "name": "ipython",
    "version": 3
   },
   "file_extension": ".py",
   "mimetype": "text/x-python",
   "name": "python",
   "nbconvert_exporter": "python",
   "pygments_lexer": "ipython3",
   "version": "3.9.12"
  }
 },
 "nbformat": 4,
 "nbformat_minor": 5
}
